{
 "cells": [
  {
   "cell_type": "code",
   "execution_count": 3,
   "metadata": {},
   "outputs": [],
   "source": [
    "import os\n",
    "import sys\n",
    "import pandas as pd\n",
    "import numpy as np\n",
    "from consuption_prediction.interface.getdata import main\n",
    "\n",
    "\n",
    "\n",
    "# Assign directory\n",
    "directory = r'/mnt/c/Users/Usuario/OneDrive/Projeto energypricing/metadata_and_surveys/metadata'\n",
    "\n",
    "file_names = []\n",
    "\n",
    "# Iterate over files in directory\n",
    "for name in os.listdir(directory):\n",
    "    if name.endswith(\".csv\"):\n",
    "        file_names.append(name)"
   ]
  },
  {
   "cell_type": "code",
   "execution_count": 6,
   "metadata": {},
   "outputs": [
    {
     "data": {
      "text/plain": [
       "['appliance.csv',\n",
       " 'home.csv',\n",
       " 'location.csv',\n",
       " 'meterreading.csv',\n",
       " 'other_appliance.csv',\n",
       " 'person.csv',\n",
       " 'room.csv',\n",
       " 'sensor.csv',\n",
       " 'sensorbox.csv',\n",
       " 'tariff.csv',\n",
       " 'weatherfeed.csv']"
      ]
     },
     "execution_count": 6,
     "metadata": {},
     "output_type": "execute_result"
    }
   ],
   "source": [
    "file_names"
   ]
  },
  {
   "cell_type": "code",
   "execution_count": 4,
   "metadata": {},
   "outputs": [
    {
     "name": "stderr",
     "output_type": "stream",
     "text": [
      "/home/thais/code/Peekaboo64534/CONSUMPTION_PREDICTION/consuption_prediction/interface/getdata.py:21: FutureWarning: Downcasting behavior in `replace` is deprecated and will be removed in a future version. To retain the old behavior, explicitly call `result.infer_objects(copy=False)`. To opt-in to the future behavior, set `pd.set_option('future.no_silent_downcasting', True)`\n",
      "  df['entry_floor'] = df['entry_floor'].replace(floor_mapping)\n"
     ]
    }
   ],
   "source": [
    "main()"
   ]
  },
  {
   "cell_type": "code",
   "execution_count": 4,
   "metadata": {},
   "outputs": [
    {
     "ename": "SyntaxError",
     "evalue": "unmatched '}' (70646322.py, line 1)",
     "output_type": "error",
     "traceback": [
      "\u001b[0;36m  Cell \u001b[0;32mIn [4], line 1\u001b[0;36m\u001b[0m\n\u001b[0;31m    }\u001b[0m\n\u001b[0m    ^\u001b[0m\n\u001b[0;31mSyntaxError\u001b[0m\u001b[0;31m:\u001b[0m unmatched '}'\n"
     ]
    }
   ],
   "source": [
    "}"
   ]
  }
 ],
 "metadata": {
  "kernelspec": {
   "display_name": "Python 3",
   "language": "python",
   "name": "python3"
  },
  "language_info": {
   "codemirror_mode": {
    "name": "ipython",
    "version": 3
   },
   "file_extension": ".py",
   "mimetype": "text/x-python",
   "name": "python",
   "nbconvert_exporter": "python",
   "pygments_lexer": "ipython3",
   "version": "3.10.6"
  }
 },
 "nbformat": 4,
 "nbformat_minor": 2
}
