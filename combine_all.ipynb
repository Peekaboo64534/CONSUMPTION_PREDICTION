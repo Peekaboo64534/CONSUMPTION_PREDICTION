{
 "cells": [
  {
   "cell_type": "code",
   "execution_count": 1,
   "metadata": {},
   "outputs": [],
   "source": [
    "import os\n",
    "import sys\n",
    "import pandas as pd\n",
    "import numpy as np"
   ]
  },
  {
   "cell_type": "code",
   "execution_count": 19,
   "metadata": {},
   "outputs": [],
   "source": [
    "# Assign directory\n",
    "directory = r\"/Users/macbook/code/jskapur/sensordata_elec_gas/elec2\"\n",
    "\n",
    "file_names = []\n",
    "\n",
    "# Iterate over files in directory\n",
    "for name in os.listdir(directory):\n",
    "    if name.endswith(\".csv\"):\n",
    "        file_names.append(name)"
   ]
  },
  {
   "cell_type": "code",
   "execution_count": 20,
   "metadata": {},
   "outputs": [
    {
     "data": {
      "text/plain": [
       "['home215_hall1998_sensor12241c12245_electric-mains_electric-combined.csv',\n",
       " 'home225_hall2079_sensor13027c13031_electric-mains_electric-combined.csv',\n",
       " 'home155_hall1430_sensor7829c7833_electric-mains_electric-combined.csv',\n",
       " 'home165_cupboard1501_sensor8320c8324_electric-mains_electric-combined.csv',\n",
       " 'home157_livingroom1611_sensor9304c9308_electric-mains_electric-combined.csv',\n",
       " 'home186_utility1773_sensor10626c10630_electric-mains_electric-combined.csv',\n",
       " 'home181_hall1690_sensor9952c9956_electric-mains_electric-combined.csv',\n",
       " 'home190_hall1768_sensor10554c10558_electric-mains_electric-combined.csv',\n",
       " 'home164_other1489_sensor8225c8227_electric-mains_electric-combined.csv',\n",
       " 'home169_kitchen1542_sensor8594c8600_electric-mains_electric-combined.csv',\n",
       " 'home183_kitchen1709_sensor10127c10131_electric-mains_electric-combined.csv',\n",
       " 'home226_hall2089_sensor13086c13090_electric-mains_electric-combined.csv',\n",
       " 'home159_other1457_sensor8000c8004_electric-mains_electric-combined.csv',\n",
       " 'home182_hall1701_sensor10012c10016_electric-mains_electric-combined.csv',\n",
       " 'home203_livingroom1897_sensor11445c11449_electric-mains_electric-combined.csv',\n",
       " 'home179_hall1655_sensor9650c9666_electric-mains_electric-combined.csv',\n",
       " 'home146_other1356_sensor7181c7185_electric-mains_electric-combined.csv',\n",
       " 'home162_hall1618_sensor9347c9351_electric-mains_electric-combined.csv',\n",
       " 'home236_hall2179_sensor13904c13908_electric-mains_electric-combined.csv',\n",
       " 'home191_hall1785_sensor10670c10674_electric-mains_electric-combined.csv',\n",
       " 'home195_hall1828_sensor10944c10946_electric-mains_electric-combined.csv',\n",
       " 'home178_hall1681_sensor9863c9873_electric-mains_electric-combined.csv',\n",
       " 'home202_outside1895_sensor11386c11390_electric-mains_electric-combined.csv',\n",
       " 'home185_hall1734_sensor10230c10259_electric-mains_electric-combined.csv',\n",
       " 'home156_hall1443_sensor7906c7910_electric-mains_electric-combined.csv',\n",
       " 'home216_hall2005_sensor12321c12325_electric-mains_electric-combined.csv',\n",
       " 'home221_bedroom2032_sensor12649c12653_electric-mains_electric-combined.csv',\n",
       " 'home200_hall1864_sensor11189c11193_electric-mains_electric-combined.csv',\n",
       " 'home161_other1488_sensor8214c8218_electric-mains_electric-combined.csv',\n",
       " 'home235_kitchen2207_sensor14140c14144_electric-mains_electric-combined.csv',\n",
       " 'home174_hall1591_sensor8945c8949_electric-mains_electric-combined.csv',\n",
       " 'home153_hall1416_sensor7687c7691_electric-mains_electric-combined.csv',\n",
       " 'home234_hall2176_sensor13874c13876_electric-mains_electric-combined.csv',\n",
       " 'home151_hall1397_sensor7543c7547_electric-mains_electric-combined.csv',\n",
       " 'home154_kitchen1428_sensor7752c7754_electric-mains_electric-combined.csv',\n",
       " 'home176_hall1643_sensor9549c9553_electric-mains_electric-combined.csv',\n",
       " 'home168_other1530_sensor8528c8532_electric-mains_electric-combined.csv',\n",
       " 'home197_hall1840_sensor11052c11054_electric-mains_electric-combined.csv',\n",
       " 'home229_utility2117_sensor13405c13409_electric-mains_electric-combined.csv',\n",
       " 'home163_hall1625_sensor9458_electric-mains_electric-combined.csv',\n",
       " 'home219_hall2019_sensor12535c12539_electric-mains_electric-combined.csv',\n",
       " 'home206_livingroom1910_sensor11569c11571_electric-mains_electric-combined.csv',\n",
       " 'home233_kitchen2166_sensor13769c13773_electric-mains_electric-combined.csv',\n",
       " 'home187_hall1741_sensor10316c10320_electric-mains_electric-combined.csv',\n",
       " 'home177_hall1671_sensor9782c9786_electric-mains_electric-combined.csv',\n",
       " 'home167_cupboard1521_sensor8482c8486_electric-mains_electric-combined.csv',\n",
       " 'home173_livingroom1587_sensor8933c8937_electric-mains_electric-combined.csv',\n",
       " 'home193_utility1809_sensor10836c10840_electric-mains_electric-combined.csv',\n",
       " 'home194_hall1813_sensor10897c10899_electric-mains_electric-combined.csv',\n",
       " 'home149_hall1386_sensor7436c7438_electric-mains_electric-combined.csv',\n",
       " 'home224_hall2069_sensor12940c12944_electric-mains_electric-combined.csv',\n",
       " 'home144_hall1337_sensor7029c7033_electric-mains_electric-combined.csv',\n",
       " 'home150_hall1391_sensor7481c7485_electric-mains_electric-combined.csv',\n",
       " 'home207_outside1933_sensor11798c11802_electric-mains_electric-combined.csv',\n",
       " 'home147_hall1365_sensor7287c7291_electric-mains_electric-combined.csv',\n",
       " 'home214_other1997_sensor12228c12230_electric-mains_electric-combined.csv',\n",
       " 'home228_hall2105_sensor13327c13331_electric-mains_electric-combined.csv',\n",
       " 'home218_hall2013_sensor12389c12393_electric-mains_electric-combined.csv',\n",
       " 'home145_hall1345_sensor7121c7125_electric-mains_electric-combined.csv',\n",
       " 'home210_hall1948_sensor11941c11945_electric-mains_electric-combined.csv',\n",
       " 'home227_hall2099_sensor13218_electric-mains_electric-combined.csv',\n",
       " 'home143_hall1327_sensor6971c6975_electric-mains_electric-combined.csv',\n",
       " 'home166_other1515_sensor8403c8407_electric-mains_electric-combined.csv',\n",
       " 'home170_hall1553_sensor8679c8681_electric-mains_electric-combined.csv',\n",
       " 'home199_livingroom1852_sensor11113c11117_electric-mains_electric-combined.csv',\n",
       " 'home189_hall1761_sensor10493c10497_electric-mains_electric-combined.csv',\n",
       " 'home212_hall1968_sensor12065c12069_electric-mains_electric-combined.csv',\n",
       " 'home171_hall1567_sensor8767c8774_electric-mains_electric-combined.csv',\n",
       " 'home175_livingroom1635_sensor9490c9500_electric-mains_electric-combined.csv',\n",
       " 'home231_hall2140_sensor13536c13540_electric-mains_electric-combined.csv',\n",
       " 'home152_hall1406_sensor7650c7654_electric-mains_electric-combined.csv',\n",
       " 'home160_utility1467_sensor8073c8077_electric-mains_electric-combined.csv',\n",
       " 'home205_hall1921_sensor11715c11720_electric-mains_electric-combined.csv',\n",
       " 'home213_hall1974_sensor12119c12128_electric-mains_electric-combined.csv',\n",
       " 'home232_livingroom2142_sensor13572c13576_electric-mains_electric-combined.csv',\n",
       " 'home209_hall2062_sensor12899c12903_electric-mains_electric-combined.csv',\n",
       " 'home211_bathroom1956_sensor11989c11993_electric-mains_electric-combined.csv',\n",
       " 'home184_hall1722_sensor10180c10184_electric-mains_electric-combined.csv',\n",
       " 'home222_hall2039_sensor12693c12697_electric-mains_electric-combined.csv',\n",
       " 'home158_hall1453_sensor7975c7979_electric-mains_electric-combined.csv',\n",
       " 'home208_hall1934_sensor11831c11835_electric-mains_electric-combined.csv',\n",
       " 'home201_hall1879_sensor11278c11282_electric-mains_electric-combined.csv',\n",
       " 'home180_hall1662_sensor9718c9722_electric-mains_electric-combined.csv',\n",
       " 'home188_hall1750_sensor10384c10388_electric-mains_electric-combined.csv',\n",
       " 'home192_hall1800_sensor10758c10775_electric-mains_electric-combined.csv',\n",
       " 'home148_hall1372_sensor7329c7333_electric-mains_electric-combined.csv',\n",
       " 'home230_hall2126_sensor13484c13488_electric-mains_electric-combined.csv']"
      ]
     },
     "execution_count": 20,
     "metadata": {},
     "output_type": "execute_result"
    }
   ],
   "source": [
    "file_names"
   ]
  },
  {
   "cell_type": "code",
   "execution_count": 12,
   "metadata": {},
   "outputs": [
    {
     "data": {
      "text/plain": [
       "['home123',\n",
       " 'hall1226',\n",
       " 'sensor6139c6143',\n",
       " 'electric-mains',\n",
       " 'electric-combined.csv']"
      ]
     },
     "execution_count": 12,
     "metadata": {},
     "output_type": "execute_result"
    }
   ],
   "source": [
    "file_names[0].split('_')"
   ]
  },
  {
   "cell_type": "code",
   "execution_count": 21,
   "metadata": {},
   "outputs": [],
   "source": [
    "# change name of files in directory\n",
    "for file in file_names:\n",
    "    new_name = file.split('_')[0] + '.csv'\n",
    "    old_file = os.path.join(directory, file)\n",
    "    os.rename(old_file, file.split('_')[0] + '.csv')\n"
   ]
  },
  {
   "cell_type": "code",
   "execution_count": null,
   "metadata": {},
   "outputs": [],
   "source": []
  }
 ],
 "metadata": {
  "kernelspec": {
   "display_name": "CONSUMPTION_PREDICTION",
   "language": "python",
   "name": "python3"
  },
  "language_info": {
   "codemirror_mode": {
    "name": "ipython",
    "version": 3
   },
   "file_extension": ".py",
   "mimetype": "text/x-python",
   "name": "python",
   "nbconvert_exporter": "python",
   "pygments_lexer": "ipython3",
   "version": "3.10.6"
  }
 },
 "nbformat": 4,
 "nbformat_minor": 2
}
