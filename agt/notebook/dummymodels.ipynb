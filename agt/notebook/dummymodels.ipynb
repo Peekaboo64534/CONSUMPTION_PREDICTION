{
 "cells": [
  {
   "cell_type": "code",
   "execution_count": 25,
   "metadata": {},
   "outputs": [],
   "source": [
    "from sklearn.model_selection import train_test_split\n",
    "from sklearn.dummy import DummyRegressor\n",
    "from sklearn.linear_model import LinearRegression,Lasso, Ridge\n",
    "from sklearn.metrics import mean_squared_error, mean_absolute_error, r2_score, max_error\n",
    "from sklearn.preprocessing import StandardScaler\n",
    "import math\n",
    "import pandas as pd\n",
    "import numpy as np\n",
    "import matplotlib\n"
   ]
  },
  {
   "cell_type": "code",
   "execution_count": 2,
   "metadata": {},
   "outputs": [],
   "source": [
    "\n",
    "\n",
    "df = pd.read_csv('/Users/peekaboo645/code/Peekaboo64534/project_name/CONSUMPTION_PREDICTION/final_dataset.csv')\n"
   ]
  },
  {
   "cell_type": "code",
   "execution_count": 3,
   "metadata": {},
   "outputs": [],
   "source": [
    "#create new dataframe with dropped values from original dataframe\n",
    "df_new = df.dropna()\n",
    "\n",
    "# Define X and y\n",
    "X = df_new.drop(columns=['Total (kWh)','datetime','location_name','hometype','gas (kWh)','Consumption (kWh)','homeid']).copy()\n",
    "y = df_new['Total (kWh)'].copy()"
   ]
  },
  {
   "cell_type": "code",
   "execution_count": 4,
   "metadata": {},
   "outputs": [],
   "source": [
    "X[['mean_h','min_h','max_h','min_t','max_t','mean_t']] = X[['mean_h','min_h','max_h','min_t','max_t','mean_t']]/ 10"
   ]
  },
  {
   "cell_type": "code",
   "execution_count": 5,
   "metadata": {},
   "outputs": [
    {
     "data": {
      "text/html": [
       "<div>\n",
       "<style scoped>\n",
       "    .dataframe tbody tr th:only-of-type {\n",
       "        vertical-align: middle;\n",
       "    }\n",
       "\n",
       "    .dataframe tbody tr th {\n",
       "        vertical-align: top;\n",
       "    }\n",
       "\n",
       "    .dataframe thead th {\n",
       "        text-align: right;\n",
       "    }\n",
       "</style>\n",
       "<table border=\"1\" class=\"dataframe\">\n",
       "  <thead>\n",
       "    <tr style=\"text-align: right;\">\n",
       "      <th></th>\n",
       "      <th>temp_mean</th>\n",
       "      <th>temp_min</th>\n",
       "      <th>temp_max</th>\n",
       "      <th>location_id</th>\n",
       "      <th>residents</th>\n",
       "      <th>occupied_days</th>\n",
       "      <th>occupied_nights</th>\n",
       "      <th>entry_floor</th>\n",
       "      <th>income_band_num</th>\n",
       "      <th>electric_appliance</th>\n",
       "      <th>gas_appliance</th>\n",
       "      <th>total_area</th>\n",
       "      <th>room_count</th>\n",
       "      <th>windowsopen</th>\n",
       "      <th>mean_h</th>\n",
       "      <th>min_h</th>\n",
       "      <th>max_h</th>\n",
       "      <th>mean_t</th>\n",
       "      <th>min_t</th>\n",
       "      <th>max_t</th>\n",
       "    </tr>\n",
       "  </thead>\n",
       "  <tbody>\n",
       "    <tr>\n",
       "      <th>0</th>\n",
       "      <td>5.169474</td>\n",
       "      <td>2.9</td>\n",
       "      <td>6.9</td>\n",
       "      <td>1</td>\n",
       "      <td>1</td>\n",
       "      <td>7</td>\n",
       "      <td>7</td>\n",
       "      <td>0</td>\n",
       "      <td>14</td>\n",
       "      <td>9</td>\n",
       "      <td>3</td>\n",
       "      <td>695</td>\n",
       "      <td>9</td>\n",
       "      <td>6</td>\n",
       "      <td>37.608684</td>\n",
       "      <td>30.0</td>\n",
       "      <td>48.2</td>\n",
       "      <td>16.689213</td>\n",
       "      <td>15.2</td>\n",
       "      <td>17.6</td>\n",
       "    </tr>\n",
       "    <tr>\n",
       "      <th>1</th>\n",
       "      <td>3.996875</td>\n",
       "      <td>1.7</td>\n",
       "      <td>7.3</td>\n",
       "      <td>1</td>\n",
       "      <td>1</td>\n",
       "      <td>7</td>\n",
       "      <td>7</td>\n",
       "      <td>0</td>\n",
       "      <td>14</td>\n",
       "      <td>9</td>\n",
       "      <td>3</td>\n",
       "      <td>695</td>\n",
       "      <td>9</td>\n",
       "      <td>6</td>\n",
       "      <td>34.672411</td>\n",
       "      <td>28.4</td>\n",
       "      <td>40.6</td>\n",
       "      <td>16.795971</td>\n",
       "      <td>15.3</td>\n",
       "      <td>17.6</td>\n",
       "    </tr>\n",
       "    <tr>\n",
       "      <th>2</th>\n",
       "      <td>2.465625</td>\n",
       "      <td>-0.2</td>\n",
       "      <td>5.8</td>\n",
       "      <td>1</td>\n",
       "      <td>1</td>\n",
       "      <td>7</td>\n",
       "      <td>7</td>\n",
       "      <td>0</td>\n",
       "      <td>14</td>\n",
       "      <td>9</td>\n",
       "      <td>3</td>\n",
       "      <td>695</td>\n",
       "      <td>9</td>\n",
       "      <td>6</td>\n",
       "      <td>33.099335</td>\n",
       "      <td>28.1</td>\n",
       "      <td>38.7</td>\n",
       "      <td>16.404040</td>\n",
       "      <td>14.2</td>\n",
       "      <td>17.7</td>\n",
       "    </tr>\n",
       "    <tr>\n",
       "      <th>3</th>\n",
       "      <td>2.642708</td>\n",
       "      <td>-0.2</td>\n",
       "      <td>6.4</td>\n",
       "      <td>1</td>\n",
       "      <td>1</td>\n",
       "      <td>7</td>\n",
       "      <td>7</td>\n",
       "      <td>0</td>\n",
       "      <td>14</td>\n",
       "      <td>9</td>\n",
       "      <td>3</td>\n",
       "      <td>695</td>\n",
       "      <td>9</td>\n",
       "      <td>6</td>\n",
       "      <td>33.380109</td>\n",
       "      <td>27.5</td>\n",
       "      <td>39.8</td>\n",
       "      <td>15.941472</td>\n",
       "      <td>13.6</td>\n",
       "      <td>18.1</td>\n",
       "    </tr>\n",
       "    <tr>\n",
       "      <th>4</th>\n",
       "      <td>0.740625</td>\n",
       "      <td>-2.1</td>\n",
       "      <td>2.9</td>\n",
       "      <td>1</td>\n",
       "      <td>1</td>\n",
       "      <td>7</td>\n",
       "      <td>7</td>\n",
       "      <td>0</td>\n",
       "      <td>14</td>\n",
       "      <td>9</td>\n",
       "      <td>3</td>\n",
       "      <td>695</td>\n",
       "      <td>9</td>\n",
       "      <td>6</td>\n",
       "      <td>28.455956</td>\n",
       "      <td>22.7</td>\n",
       "      <td>36.0</td>\n",
       "      <td>16.123227</td>\n",
       "      <td>14.8</td>\n",
       "      <td>17.4</td>\n",
       "    </tr>\n",
       "    <tr>\n",
       "      <th>...</th>\n",
       "      <td>...</td>\n",
       "      <td>...</td>\n",
       "      <td>...</td>\n",
       "      <td>...</td>\n",
       "      <td>...</td>\n",
       "      <td>...</td>\n",
       "      <td>...</td>\n",
       "      <td>...</td>\n",
       "      <td>...</td>\n",
       "      <td>...</td>\n",
       "      <td>...</td>\n",
       "      <td>...</td>\n",
       "      <td>...</td>\n",
       "      <td>...</td>\n",
       "      <td>...</td>\n",
       "      <td>...</td>\n",
       "      <td>...</td>\n",
       "      <td>...</td>\n",
       "      <td>...</td>\n",
       "      <td>...</td>\n",
       "    </tr>\n",
       "    <tr>\n",
       "      <th>45110</th>\n",
       "      <td>17.177083</td>\n",
       "      <td>10.3</td>\n",
       "      <td>24.0</td>\n",
       "      <td>1</td>\n",
       "      <td>3</td>\n",
       "      <td>3</td>\n",
       "      <td>0</td>\n",
       "      <td>0</td>\n",
       "      <td>12</td>\n",
       "      <td>10</td>\n",
       "      <td>4</td>\n",
       "      <td>1135</td>\n",
       "      <td>11</td>\n",
       "      <td>8</td>\n",
       "      <td>53.865820</td>\n",
       "      <td>46.1</td>\n",
       "      <td>61.7</td>\n",
       "      <td>19.769533</td>\n",
       "      <td>19.3</td>\n",
       "      <td>20.3</td>\n",
       "    </tr>\n",
       "    <tr>\n",
       "      <th>45111</th>\n",
       "      <td>18.744792</td>\n",
       "      <td>11.9</td>\n",
       "      <td>28.4</td>\n",
       "      <td>1</td>\n",
       "      <td>3</td>\n",
       "      <td>3</td>\n",
       "      <td>0</td>\n",
       "      <td>0</td>\n",
       "      <td>12</td>\n",
       "      <td>10</td>\n",
       "      <td>4</td>\n",
       "      <td>1135</td>\n",
       "      <td>11</td>\n",
       "      <td>8</td>\n",
       "      <td>52.338076</td>\n",
       "      <td>45.3</td>\n",
       "      <td>57.9</td>\n",
       "      <td>20.579418</td>\n",
       "      <td>20.0</td>\n",
       "      <td>21.2</td>\n",
       "    </tr>\n",
       "    <tr>\n",
       "      <th>45112</th>\n",
       "      <td>15.307292</td>\n",
       "      <td>11.8</td>\n",
       "      <td>22.2</td>\n",
       "      <td>1</td>\n",
       "      <td>3</td>\n",
       "      <td>3</td>\n",
       "      <td>0</td>\n",
       "      <td>0</td>\n",
       "      <td>12</td>\n",
       "      <td>10</td>\n",
       "      <td>4</td>\n",
       "      <td>1135</td>\n",
       "      <td>11</td>\n",
       "      <td>8</td>\n",
       "      <td>57.954409</td>\n",
       "      <td>54.2</td>\n",
       "      <td>63.6</td>\n",
       "      <td>20.893549</td>\n",
       "      <td>20.6</td>\n",
       "      <td>21.3</td>\n",
       "    </tr>\n",
       "    <tr>\n",
       "      <th>45113</th>\n",
       "      <td>13.848958</td>\n",
       "      <td>12.8</td>\n",
       "      <td>16.4</td>\n",
       "      <td>1</td>\n",
       "      <td>3</td>\n",
       "      <td>3</td>\n",
       "      <td>0</td>\n",
       "      <td>0</td>\n",
       "      <td>12</td>\n",
       "      <td>10</td>\n",
       "      <td>4</td>\n",
       "      <td>1135</td>\n",
       "      <td>11</td>\n",
       "      <td>8</td>\n",
       "      <td>60.531336</td>\n",
       "      <td>59.4</td>\n",
       "      <td>64.6</td>\n",
       "      <td>21.095065</td>\n",
       "      <td>20.8</td>\n",
       "      <td>21.4</td>\n",
       "    </tr>\n",
       "    <tr>\n",
       "      <th>45114</th>\n",
       "      <td>15.256250</td>\n",
       "      <td>11.6</td>\n",
       "      <td>19.2</td>\n",
       "      <td>1</td>\n",
       "      <td>3</td>\n",
       "      <td>3</td>\n",
       "      <td>0</td>\n",
       "      <td>0</td>\n",
       "      <td>12</td>\n",
       "      <td>10</td>\n",
       "      <td>4</td>\n",
       "      <td>1135</td>\n",
       "      <td>11</td>\n",
       "      <td>8</td>\n",
       "      <td>59.656805</td>\n",
       "      <td>58.2</td>\n",
       "      <td>61.8</td>\n",
       "      <td>20.691439</td>\n",
       "      <td>20.5</td>\n",
       "      <td>20.9</td>\n",
       "    </tr>\n",
       "  </tbody>\n",
       "</table>\n",
       "<p>44265 rows × 20 columns</p>\n",
       "</div>"
      ],
      "text/plain": [
       "       temp_mean  temp_min  temp_max  location_id  residents  occupied_days  \\\n",
       "0       5.169474       2.9       6.9            1          1              7   \n",
       "1       3.996875       1.7       7.3            1          1              7   \n",
       "2       2.465625      -0.2       5.8            1          1              7   \n",
       "3       2.642708      -0.2       6.4            1          1              7   \n",
       "4       0.740625      -2.1       2.9            1          1              7   \n",
       "...          ...       ...       ...          ...        ...            ...   \n",
       "45110  17.177083      10.3      24.0            1          3              3   \n",
       "45111  18.744792      11.9      28.4            1          3              3   \n",
       "45112  15.307292      11.8      22.2            1          3              3   \n",
       "45113  13.848958      12.8      16.4            1          3              3   \n",
       "45114  15.256250      11.6      19.2            1          3              3   \n",
       "\n",
       "       occupied_nights  entry_floor  income_band_num  electric_appliance  \\\n",
       "0                    7            0               14                   9   \n",
       "1                    7            0               14                   9   \n",
       "2                    7            0               14                   9   \n",
       "3                    7            0               14                   9   \n",
       "4                    7            0               14                   9   \n",
       "...                ...          ...              ...                 ...   \n",
       "45110                0            0               12                  10   \n",
       "45111                0            0               12                  10   \n",
       "45112                0            0               12                  10   \n",
       "45113                0            0               12                  10   \n",
       "45114                0            0               12                  10   \n",
       "\n",
       "       gas_appliance  total_area  room_count  windowsopen     mean_h  min_h  \\\n",
       "0                  3         695           9            6  37.608684   30.0   \n",
       "1                  3         695           9            6  34.672411   28.4   \n",
       "2                  3         695           9            6  33.099335   28.1   \n",
       "3                  3         695           9            6  33.380109   27.5   \n",
       "4                  3         695           9            6  28.455956   22.7   \n",
       "...              ...         ...         ...          ...        ...    ...   \n",
       "45110              4        1135          11            8  53.865820   46.1   \n",
       "45111              4        1135          11            8  52.338076   45.3   \n",
       "45112              4        1135          11            8  57.954409   54.2   \n",
       "45113              4        1135          11            8  60.531336   59.4   \n",
       "45114              4        1135          11            8  59.656805   58.2   \n",
       "\n",
       "       max_h     mean_t  min_t  max_t  \n",
       "0       48.2  16.689213   15.2   17.6  \n",
       "1       40.6  16.795971   15.3   17.6  \n",
       "2       38.7  16.404040   14.2   17.7  \n",
       "3       39.8  15.941472   13.6   18.1  \n",
       "4       36.0  16.123227   14.8   17.4  \n",
       "...      ...        ...    ...    ...  \n",
       "45110   61.7  19.769533   19.3   20.3  \n",
       "45111   57.9  20.579418   20.0   21.2  \n",
       "45112   63.6  20.893549   20.6   21.3  \n",
       "45113   64.6  21.095065   20.8   21.4  \n",
       "45114   61.8  20.691439   20.5   20.9  \n",
       "\n",
       "[44265 rows x 20 columns]"
      ]
     },
     "execution_count": 5,
     "metadata": {},
     "output_type": "execute_result"
    }
   ],
   "source": [
    "X"
   ]
  },
  {
   "cell_type": "code",
   "execution_count": 7,
   "metadata": {},
   "outputs": [],
   "source": [
    "# Split the data into training and testing sets\n",
    "X_train, X_test, y_train, y_test = train_test_split(X, y, test_size=0.3, random_state=6)\n"
   ]
  },
  {
   "cell_type": "code",
   "execution_count": 8,
   "metadata": {},
   "outputs": [],
   "source": [
    "\n",
    "# Instantiate the scaler\n",
    "scaler = StandardScaler()\n",
    "\n",
    "# Fit the scaler on the training data and transform the training data\n",
    "X_train_scaled = scaler.fit_transform(X_train)\n",
    "\n",
    "# Transform the test data\n",
    "X_test_scaled = scaler.transform(X_test)\n"
   ]
  },
  {
   "cell_type": "code",
   "execution_count": 9,
   "metadata": {},
   "outputs": [
    {
     "data": {
      "text/plain": [
       "0        25.328250\n",
       "1        26.980155\n",
       "2        33.927362\n",
       "3        35.771932\n",
       "4        51.124231\n",
       "           ...    \n",
       "45110    45.236794\n",
       "45111    30.696886\n",
       "45112    32.240507\n",
       "45113    22.274057\n",
       "45114    23.609609\n",
       "Name: Total (kWh), Length: 44265, dtype: float64"
      ]
     },
     "execution_count": 9,
     "metadata": {},
     "output_type": "execute_result"
    }
   ],
   "source": [
    "y"
   ]
  },
  {
   "cell_type": "code",
   "execution_count": null,
   "metadata": {},
   "outputs": [],
   "source": []
  },
  {
   "cell_type": "markdown",
   "metadata": {},
   "source": [
    " Baseline model"
   ]
  },
  {
   "cell_type": "code",
   "execution_count": 10,
   "metadata": {},
   "outputs": [],
   "source": [
    "\n",
    "baseline_model = DummyRegressor(strategy=\"mean\")\n",
    "baseline_model.fit(X_train, y_train)\n",
    "y_pred_baseline = baseline_model.predict(X_test)\n"
   ]
  },
  {
   "cell_type": "code",
   "execution_count": 11,
   "metadata": {},
   "outputs": [],
   "source": [
    "# Calculate metrics for baseline model\n",
    "mse_baseline = mean_squared_error(y_test, y_pred_baseline)\n",
    "rmse_baseline = math.sqrt(mse_baseline)\n",
    "mae_baseline = mean_absolute_error(y_test, y_pred_baseline)\n",
    "r2_baseline = r2_score(y_test, y_pred_baseline)\n",
    "max_error_baseline = max_error(y_test, y_pred_baseline)\n"
   ]
  },
  {
   "cell_type": "code",
   "execution_count": 12,
   "metadata": {},
   "outputs": [
    {
     "data": {
      "text/plain": [
       "3484.340945940844"
      ]
     },
     "execution_count": 12,
     "metadata": {},
     "output_type": "execute_result"
    }
   ],
   "source": [
    "mse_baseline"
   ]
  },
  {
   "cell_type": "code",
   "execution_count": 13,
   "metadata": {},
   "outputs": [
    {
     "data": {
      "text/plain": [
       "59.02830631096274"
      ]
     },
     "execution_count": 13,
     "metadata": {},
     "output_type": "execute_result"
    }
   ],
   "source": [
    "rmse_baseline"
   ]
  },
  {
   "cell_type": "code",
   "execution_count": 14,
   "metadata": {},
   "outputs": [
    {
     "data": {
      "text/plain": [
       "37.79841425980589"
      ]
     },
     "execution_count": 14,
     "metadata": {},
     "output_type": "execute_result"
    }
   ],
   "source": [
    "mae_baseline"
   ]
  },
  {
   "cell_type": "code",
   "execution_count": 15,
   "metadata": {},
   "outputs": [
    {
     "data": {
      "text/plain": [
       "-2.122683779526291e-05"
      ]
     },
     "execution_count": 15,
     "metadata": {},
     "output_type": "execute_result"
    }
   ],
   "source": [
    "r2_baseline"
   ]
  },
  {
   "cell_type": "code",
   "execution_count": 16,
   "metadata": {},
   "outputs": [
    {
     "data": {
      "text/plain": [
       "2071.658583169733"
      ]
     },
     "execution_count": 16,
     "metadata": {},
     "output_type": "execute_result"
    }
   ],
   "source": [
    "max_error_baseline"
   ]
  },
  {
   "cell_type": "markdown",
   "metadata": {},
   "source": [
    " LINEAR Regression model"
   ]
  },
  {
   "cell_type": "code",
   "execution_count": 17,
   "metadata": {},
   "outputs": [],
   "source": [
    "\n",
    "model = LinearRegression().fit(X_train, y_train)\n",
    "y_pred = model.predict(X_test)"
   ]
  },
  {
   "cell_type": "code",
   "execution_count": 18,
   "metadata": {},
   "outputs": [],
   "source": [
    "# Calculate metrics for Linear Regression model\n",
    "mse = mean_squared_error(y_test, y_pred)\n",
    "rmse = math.sqrt(mse)\n",
    "mae = mean_absolute_error(y_test, y_pred)\n",
    "r2 = r2_score(y_test, y_pred)\n",
    "max_err = max_error(y_test, y_pred)\n"
   ]
  },
  {
   "cell_type": "code",
   "execution_count": null,
   "metadata": {},
   "outputs": [],
   "source": []
  },
  {
   "cell_type": "markdown",
   "metadata": {},
   "source": [
    "define a FUNC to print METRICS for each model"
   ]
  },
  {
   "cell_type": "code",
   "execution_count": 31,
   "metadata": {},
   "outputs": [],
   "source": [
    "\n",
    "def test_results(y_test, y_pred):\n",
    "    mse = mean_squared_error(y_test, y_pred)\n",
    "    rmse = math.sqrt(mse)\n",
    "    mae = mean_absolute_error(y_test, y_pred)\n",
    "    r2 = r2_score(y_test, y_pred)\n",
    "    max_err = max_error(y_test, y_pred)\n",
    "    print(mse, rmse, mae, r2, max_err)\n"
   ]
  },
  {
   "cell_type": "code",
   "execution_count": 19,
   "metadata": {},
   "outputs": [
    {
     "data": {
      "text/plain": [
       "2306.779521842238"
      ]
     },
     "execution_count": 19,
     "metadata": {},
     "output_type": "execute_result"
    }
   ],
   "source": [
    "mse"
   ]
  },
  {
   "cell_type": "code",
   "execution_count": 20,
   "metadata": {},
   "outputs": [
    {
     "data": {
      "text/plain": [
       "48.028944625530116"
      ]
     },
     "execution_count": 20,
     "metadata": {},
     "output_type": "execute_result"
    }
   ],
   "source": [
    "rmse"
   ]
  },
  {
   "cell_type": "code",
   "execution_count": 21,
   "metadata": {},
   "outputs": [
    {
     "data": {
      "text/plain": [
       "26.023706979317726"
      ]
     },
     "execution_count": 21,
     "metadata": {},
     "output_type": "execute_result"
    }
   ],
   "source": [
    "mae"
   ]
  },
  {
   "cell_type": "code",
   "execution_count": 22,
   "metadata": {},
   "outputs": [
    {
     "data": {
      "text/plain": [
       "0.33794409810430126"
      ]
     },
     "execution_count": 22,
     "metadata": {},
     "output_type": "execute_result"
    }
   ],
   "source": [
    "r2"
   ]
  },
  {
   "cell_type": "code",
   "execution_count": 23,
   "metadata": {},
   "outputs": [
    {
     "data": {
      "text/plain": [
       "2022.2892534442753"
      ]
     },
     "execution_count": 23,
     "metadata": {},
     "output_type": "execute_result"
    }
   ],
   "source": [
    "max_err"
   ]
  },
  {
   "cell_type": "code",
   "execution_count": 26,
   "metadata": {},
   "outputs": [],
   "source": [
    "# Lasso Regression model\n",
    "lasso_model = Lasso(alpha=1.0).fit(X_train_scaled, y_train)\n",
    "y_pred_lasso= lasso_model.predict(X_test_scaled)\n"
   ]
  },
  {
   "cell_type": "code",
   "execution_count": 27,
   "metadata": {},
   "outputs": [],
   "source": [
    "# Ridge Regression model\n",
    "ridge_model = Ridge(alpha=1.0).fit(X_train_scaled, y_train)\n",
    "y_pred_ridge = ridge_model.predict(X_test_scaled)"
   ]
  },
  {
   "cell_type": "code",
   "execution_count": 28,
   "metadata": {},
   "outputs": [
    {
     "data": {
      "text/plain": [
       "array([99.92774158, 58.79997077, 45.02974928, ..., 67.21359869,\n",
       "       58.86485557, 59.56559863])"
      ]
     },
     "execution_count": 28,
     "metadata": {},
     "output_type": "execute_result"
    }
   ],
   "source": [
    "y_pred_lasso"
   ]
  },
  {
   "cell_type": "code",
   "execution_count": 29,
   "metadata": {},
   "outputs": [
    {
     "data": {
      "text/plain": [
       "array([104.75146932,  52.74155853,  46.08721106, ...,  66.18377533,\n",
       "        54.64873805,  72.66731217])"
      ]
     },
     "execution_count": 29,
     "metadata": {},
     "output_type": "execute_result"
    }
   ],
   "source": [
    "y_pred_ridge"
   ]
  },
  {
   "cell_type": "code",
   "execution_count": 32,
   "metadata": {},
   "outputs": [
    {
     "name": "stdout",
     "output_type": "stream",
     "text": [
      "2338.3924599599145 48.35692773491627 26.071778314354013 0.3288710453661027 2020.7737297711747\n"
     ]
    }
   ],
   "source": [
    "test_results(y_test,y_pred_lasso)"
   ]
  },
  {
   "cell_type": "code",
   "execution_count": 33,
   "metadata": {},
   "outputs": [
    {
     "name": "stdout",
     "output_type": "stream",
     "text": [
      "2306.7811226948234 48.028961291025475 26.02345381691153 0.3379436386525452 2022.2907584386226\n"
     ]
    }
   ],
   "source": [
    "test_results(y_test,y_pred_ridge)"
   ]
  },
  {
   "cell_type": "markdown",
   "metadata": {},
   "source": [
    "RANDOM FOREST REGRESSOR "
   ]
  },
  {
   "cell_type": "code",
   "execution_count": 34,
   "metadata": {},
   "outputs": [],
   "source": [
    "from sklearn.ensemble import RandomForestRegressor"
   ]
  },
  {
   "cell_type": "code",
   "execution_count": 37,
   "metadata": {},
   "outputs": [
    {
     "name": "stderr",
     "output_type": "stream",
     "text": [
      "/Users/peekaboo645/.pyenv/versions/3.10.6/envs/CONSUMPTION_PREDICTION/lib/python3.10/site-packages/sklearn/base.py:486: UserWarning: X has feature names, but RandomForestRegressor was fitted without feature names\n",
      "  warnings.warn(\n"
     ]
    }
   ],
   "source": [
    "# Create the regressor\n",
    "regressor = RandomForestRegressor()\n",
    "\n",
    "# Train the regressor on the training data\n",
    "regressor.fit(X_train_scaled, y_train)\n",
    "\n",
    "# Make predictions on the test set\n",
    "y_pred_rforest = regressor.predict(X_test)\n"
   ]
  },
  {
   "cell_type": "code",
   "execution_count": 38,
   "metadata": {},
   "outputs": [
    {
     "name": "stdout",
     "output_type": "stream",
     "text": [
      "5808.854655492169 76.21584254925067 60.50079390176895 -0.6671669188616596 2035.905321016667\n"
     ]
    }
   ],
   "source": [
    "test_results(y_test,y_pred_rforest)"
   ]
  },
  {
   "cell_type": "code",
   "execution_count": null,
   "metadata": {},
   "outputs": [],
   "source": []
  },
  {
   "cell_type": "markdown",
   "metadata": {},
   "source": [
    "XGBOOST"
   ]
  },
  {
   "cell_type": "code",
   "execution_count": 39,
   "metadata": {},
   "outputs": [],
   "source": [
    "import xgboost as xgb"
   ]
  },
  {
   "cell_type": "code",
   "execution_count": 41,
   "metadata": {},
   "outputs": [],
   "source": [
    "xgboost_model = xgb.XGBRegressor(n_estimators=100, learning_rate=0.1, max_depth=3, random_state=6)\n",
    "#fit onto XGB\n",
    "xgboost_model.fit(X_train_scaled, y_train)\n",
    "#make predictions\n",
    "y_pred_xgboost = xgboost_model.predict(X_test_scaled)"
   ]
  },
  {
   "cell_type": "code",
   "execution_count": 42,
   "metadata": {},
   "outputs": [
    {
     "name": "stdout",
     "output_type": "stream",
     "text": [
      "1846.0321939026383 42.96547676801269 20.715687272923915 0.47018061436289627 1960.4633753043622\n"
     ]
    }
   ],
   "source": [
    "test_results(y_test,y_pred_xgboost)"
   ]
  },
  {
   "cell_type": "code",
   "execution_count": null,
   "metadata": {},
   "outputs": [],
   "source": []
  }
 ],
 "metadata": {
  "kernelspec": {
   "display_name": "CONSUMPTION_PREDICTION",
   "language": "python",
   "name": "python3"
  },
  "language_info": {
   "codemirror_mode": {
    "name": "ipython",
    "version": 3
   },
   "file_extension": ".py",
   "mimetype": "text/x-python",
   "name": "python",
   "nbconvert_exporter": "python",
   "pygments_lexer": "ipython3",
   "version": "3.10.6"
  }
 },
 "nbformat": 4,
 "nbformat_minor": 2
}
