{
 "cells": [
  {
   "cell_type": "code",
   "execution_count": 1,
   "metadata": {},
   "outputs": [],
   "source": [
    "import requests"
   ]
  },
  {
   "cell_type": "code",
   "execution_count": 3,
   "metadata": {},
   "outputs": [
    {
     "data": {
      "text/plain": [
       "6.436405658721924"
      ]
     },
     "execution_count": 3,
     "metadata": {},
     "output_type": "execute_result"
    }
   ],
   "source": [
    "test_features_j = {\n",
    "    'residents': '2',\n",
    "    'room_count': '1',\n",
    "    'workstatus': '1',\n",
    "    'hometype': 'house_or_bungalow'\n",
    "}\n",
    "\n",
    "url = 'http://localhost:8080/predict'\n",
    "response = requests.post(url, json=test_features_j).json()\n",
    "response['prediction']"
   ]
  },
  {
   "cell_type": "code",
   "execution_count": null,
   "metadata": {},
   "outputs": [],
   "source": [
    "gcp_project_id = 'elite-monolith-420416'"
   ]
  }
 ],
 "metadata": {
  "kernelspec": {
   "display_name": "CONSUMPTION_PREDICTION",
   "language": "python",
   "name": "python3"
  },
  "language_info": {
   "codemirror_mode": {
    "name": "ipython",
    "version": 3
   },
   "file_extension": ".py",
   "mimetype": "text/x-python",
   "name": "python",
   "nbconvert_exporter": "python",
   "pygments_lexer": "ipython3",
   "version": "3.10.6"
  }
 },
 "nbformat": 4,
 "nbformat_minor": 2
}
