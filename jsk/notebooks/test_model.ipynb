{
 "cells": [
  {
   "cell_type": "code",
   "execution_count": 2,
   "metadata": {},
   "outputs": [],
   "source": [
    "import requests"
   ]
  },
  {
   "cell_type": "code",
   "execution_count": 37,
   "metadata": {},
   "outputs": [],
   "source": [
    "test_features_j = {\n",
    "    'residents': '20000',\n",
    "    'room_count': '1000',\n",
    "    'workstatus': '0',\n",
    "    'hometype': 'house_or_bungalow'\n",
    "}\n",
    "\n",
    "url = 'https://api-w2mh3no3sa-ew.a.run.app/predict'\n",
    "local_url = 'http://127.0.0.1:8000/predict'"
   ]
  },
  {
   "cell_type": "code",
   "execution_count": null,
   "metadata": {},
   "outputs": [],
   "source": [
    "gcp_project_id = 'elite-monolith-420416'"
   ]
  },
  {
   "cell_type": "code",
   "execution_count": 13,
   "metadata": {},
   "outputs": [],
   "source": [
    "city_lat_long = {\n",
    "    'London': [51.5074,0.1278],\n",
    "    'Birmingham': [52.4862, 1.8904],\n",
    "    'Manchester': [53.4839, 2.2446],\n",
    "    'Leeds-Bradford': [53.8008,1.5491],\n",
    "    'Glasgow': [55.8642, 4.2518],\n",
    "    'Southampton-Portsmouth': [50.9097, 1.4044],\n",
    "    'Liverpool': [53.4084, 2.9916],\n",
    "    'Newcastle': [54.9783, 1.6178],\n",
    "    'Nottingham': [52.9548, 1.1581],\n",
    "    'Sheffield': [53.3811, 1.4701]\n",
    "}"
   ]
  },
  {
   "cell_type": "code",
   "execution_count": 30,
   "metadata": {},
   "outputs": [],
   "source": [
    "features = {\n",
    "    'residents': '2',\n",
    "    'room_count': '1',\n",
    "    'workstatus': '0',\n",
    "    'hometype': 'house_or_bungalow',\n",
    "    'total_area': '100'\n",
    "}"
   ]
  },
  {
   "cell_type": "code",
   "execution_count": 16,
   "metadata": {},
   "outputs": [],
   "source": [
    "#Query the weather API to get the temperature for the next 7 days for the selected city\n",
    "lat = city_lat_long['London'][0]\n",
    "long = city_lat_long['London'][1]\n",
    "weather_url = f'https://api.open-meteo.com/v1/forecast?latitude={lat}&longitude={long}&daily=temperature_2m_min,temperature_2m_max'"
   ]
  },
  {
   "cell_type": "code",
   "execution_count": 33,
   "metadata": {},
   "outputs": [],
   "source": [
    "response = requests.get(weather_url).json()\n",
    "dates = response['daily']['time']\n",
    "temps_min = response['daily']['temperature_2m_min']\n",
    "temps_max = response['daily']['temperature_2m_max']\n",
    "# calculate the average temperature for each day\n",
    "temps_avg = [(temps_min[i] + temps_max[i])/2 for i in range(7)]"
   ]
  },
  {
   "cell_type": "code",
   "execution_count": 39,
   "metadata": {},
   "outputs": [],
   "source": [
    "# Generate daily predictions for the next 7 days\n",
    "daily_predictions = []\n",
    "\n",
    "for i in range(len(dates)):\n",
    "    # Update features with updated temps\n",
    "    features['temp_mean'] = str(temps_avg[i])\n",
    "    features['temp_min'] = str(temps_min[i])\n",
    "    features['temp_max'] = str(temps_max[i])\n",
    "\n",
    "    # Daily Prediction Value\n",
    "    predictions = requests.post(url, json=features).json()['prediction']\n",
    "    daily_predictions.append((dates[i], predictions))"
   ]
  },
  {
   "cell_type": "code",
   "execution_count": 38,
   "metadata": {},
   "outputs": [
    {
     "data": {
      "text/plain": [
       "'https://api-w2mh3no3sa-ew.a.run.app/predict'"
      ]
     },
     "execution_count": 38,
     "metadata": {},
     "output_type": "execute_result"
    }
   ],
   "source": [
    "url"
   ]
  },
  {
   "cell_type": "code",
   "execution_count": 40,
   "metadata": {},
   "outputs": [
    {
     "data": {
      "text/plain": [
       "[('2024-06-11', 5.732067108154297),\n",
       " ('2024-06-12', 5.8772149085998535),\n",
       " ('2024-06-13', 6.040131092071533),\n",
       " ('2024-06-14', 5.831724166870117),\n",
       " ('2024-06-15', 5.798828601837158),\n",
       " ('2024-06-16', 5.678567409515381),\n",
       " ('2024-06-17', 5.564359664916992)]"
      ]
     },
     "execution_count": 40,
     "metadata": {},
     "output_type": "execute_result"
    }
   ],
   "source": [
    "daily_predictions"
   ]
  },
  {
   "cell_type": "code",
   "execution_count": null,
   "metadata": {},
   "outputs": [],
   "source": []
  }
 ],
 "metadata": {
  "kernelspec": {
   "display_name": "CONSUMPTION_PREDICTION",
   "language": "python",
   "name": "python3"
  },
  "language_info": {
   "codemirror_mode": {
    "name": "ipython",
    "version": 3
   },
   "file_extension": ".py",
   "mimetype": "text/x-python",
   "name": "python",
   "nbconvert_exporter": "python",
   "pygments_lexer": "ipython3",
   "version": "3.10.6"
  }
 },
 "nbformat": 4,
 "nbformat_minor": 2
}
