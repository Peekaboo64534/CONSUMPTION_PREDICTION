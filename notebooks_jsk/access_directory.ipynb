{
 "cells": [
  {
   "cell_type": "code",
   "execution_count": 16,
   "metadata": {},
   "outputs": [],
   "source": [
    "import os\n",
    "import pandas as pd\n",
    "import numpy as np"
   ]
  },
  {
   "cell_type": "code",
   "execution_count": 17,
   "metadata": {},
   "outputs": [],
   "source": [
    "# Assign directory\n",
    "directory = r\"../data/original\"\n",
    "\n",
    "file_names = []\n",
    "\n",
    "# Iterate over files in directory\n",
    "for name in os.listdir(directory):\n",
    "    if name.endswith(\".csv\"):\n",
    "        file_names.append(name)"
   ]
  },
  {
   "cell_type": "code",
   "execution_count": 18,
   "metadata": {},
   "outputs": [],
   "source": [
    "# change name of files in directory\n",
    "for file in file_names:\n",
    "    new_name = file.split('_')[0] + '.csv'\n",
    "    new_path = os.path.join(directory, new_name)\n",
    "    old_file = os.path.join(directory, file)\n",
    "    os.rename(old_file, new_path)\n"
   ]
  },
  {
   "cell_type": "code",
   "execution_count": null,
   "metadata": {},
   "outputs": [],
   "source": []
  }
 ],
 "metadata": {
  "kernelspec": {
   "display_name": "CONSUMPTION_PREDICTION",
   "language": "python",
   "name": "python3"
  },
  "language_info": {
   "codemirror_mode": {
    "name": "ipython",
    "version": 3
   },
   "file_extension": ".py",
   "mimetype": "text/x-python",
   "name": "python",
   "nbconvert_exporter": "python",
   "pygments_lexer": "ipython3",
   "version": "3.10.6"
  }
 },
 "nbformat": 4,
 "nbformat_minor": 2
}
