{
 "cells": [
  {
   "cell_type": "code",
   "execution_count": 16,
   "metadata": {},
   "outputs": [],
   "source": [
    "# Imports\n",
    "import os\n",
    "import sys\n",
    "import pandas as pd"
   ]
  },
  {
   "cell_type": "code",
   "execution_count": 17,
   "metadata": {},
   "outputs": [],
   "source": [
    "# Assign directory\n",
    "directory = r\"/Users/macbook/code/jskapur/consumption_prediction/data/data_transformed\"\n",
    "\n",
    "file_names = []\n",
    "\n",
    "# Iterate over files in directory\n",
    "for name in os.listdir(directory):\n",
    "    if name.endswith(\".csv\"):\n",
    "        file_names.append(name)"
   ]
  },
  {
   "cell_type": "code",
   "execution_count": 26,
   "metadata": {},
   "outputs": [
    {
     "data": {
      "text/plain": [
       "'299'"
      ]
     },
     "execution_count": 26,
     "metadata": {},
     "output_type": "execute_result"
    }
   ],
   "source": [
    "file_names[0].split('home')[1].split('.')[0]"
   ]
  },
  {
   "cell_type": "code",
   "execution_count": 27,
   "metadata": {},
   "outputs": [],
   "source": [
    "# Create empty list to store all dataframes from all the csv files\n",
    "dfs = []\n",
    "\n",
    "# Iterate over files in directory and save dataframe to dfs\n",
    "for file in file_names:\n",
    "    df = pd.read_csv(os.path.join(directory, file))\n",
    "    df.drop(columns=[\"homeid\"], inplace=True)\n",
    "    homeid = file.split('home')[1].split('.')[0]\n",
    "    df['homeid'] = homeid\n",
    "    dfs.append(df)\n",
    "\n",
    "# Concatenate all dataframes in dfs\n",
    "df = pd.concat(dfs, ignore_index=True)\n",
    "\n",
    "# Save concatenated dataframe to csv\n",
    "df.to_csv(\"../data/master_data.csv\", index=False)"
   ]
  }
 ],
 "metadata": {
  "kernelspec": {
   "display_name": "CONSUMPTION_PREDICTION",
   "language": "python",
   "name": "python3"
  },
  "language_info": {
   "codemirror_mode": {
    "name": "ipython",
    "version": 3
   },
   "file_extension": ".py",
   "mimetype": "text/x-python",
   "name": "python",
   "nbconvert_exporter": "python",
   "pygments_lexer": "ipython3",
   "version": "3.10.6"
  }
 },
 "nbformat": 4,
 "nbformat_minor": 2
}
